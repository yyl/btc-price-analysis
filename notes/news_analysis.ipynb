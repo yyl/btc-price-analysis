{
 "metadata": {
  "name": "",
  "signature": "sha256:1e28c60394ceb67a4e837a9450646574e3c6eff028a1101f63f7007e78331277"
 },
 "nbformat": 3,
 "nbformat_minor": 0,
 "worksheets": [
  {
   "cells": [
    {
     "cell_type": "code",
     "collapsed": false,
     "input": [
      "import pandas as pd\n",
      "import datetime\n",
      "import numpy as np\n",
      "import scipy as sp\n",
      "import os\n",
      "import matplotlib.pyplot as plt\n",
      "import matplotlib\n",
      "%matplotlib inline\n",
      "# font = {'size'   : 18}\n",
      "# matplotlib.rc('font', **font)\n",
      "matplotlib.rcParams['figure.figsize'] = (12.0, 6.0)\n",
      "os.chdir(\"/Users/yulongyang/Envs/btc-analysis/btc-price-analysis\")"
     ],
     "language": "python",
     "metadata": {},
     "outputs": [],
     "prompt_number": 1
    },
    {
     "cell_type": "markdown",
     "metadata": {},
     "source": [
      "# NYT news data"
     ]
    },
    {
     "cell_type": "code",
     "collapsed": false,
     "input": [
      "time_format = \"%Y-%m-%dT%H:%M:%SZ\"\n",
      "nyt_data = pd.read_csv(\"./data/nyt.csv\", header=False, names=[\"time\", \"headline\"], index_col='time',\n",
      "                   parse_dates=[0], date_parser=lambda x: datetime.datetime.strptime(x, time_format))\n",
      "nyt_data.head()"
     ],
     "language": "python",
     "metadata": {},
     "outputs": [
      {
       "html": [
        "<div style=\"max-height:1000px;max-width:1500px;overflow:auto;\">\n",
        "<table border=\"1\" class=\"dataframe\">\n",
        "  <thead>\n",
        "    <tr style=\"text-align: right;\">\n",
        "      <th></th>\n",
        "      <th>headline</th>\n",
        "    </tr>\n",
        "    <tr>\n",
        "      <th>time</th>\n",
        "      <th></th>\n",
        "    </tr>\n",
        "  </thead>\n",
        "  <tbody>\n",
        "    <tr>\n",
        "      <th>2012-01-16 01:01:41</th>\n",
        "      <td> 'Good Wife' Watch: Jason Biggs, Jim Cramer and...</td>\n",
        "    </tr>\n",
        "    <tr>\n",
        "      <th>2013-03-12 20:28:27</th>\n",
        "      <td> Today's Scuttlebot: Bitcoin Problem and Tracki...</td>\n",
        "    </tr>\n",
        "    <tr>\n",
        "      <th>2013-04-11 16:42:24</th>\n",
        "      <td>                  Bitcoin Has Real-World Investors</td>\n",
        "    </tr>\n",
        "    <tr>\n",
        "      <th>2013-04-11 17:20:13</th>\n",
        "      <td>       TimesCast: Bitcoin Has Real-World Investors</td>\n",
        "    </tr>\n",
        "    <tr>\n",
        "      <th>2013-04-12 15:55:16</th>\n",
        "      <td> Week in Review: From Banes of Zuckerberg to Bi...</td>\n",
        "    </tr>\n",
        "  </tbody>\n",
        "</table>\n",
        "</div>"
       ],
       "metadata": {},
       "output_type": "pyout",
       "prompt_number": 2,
       "text": [
        "                                                              headline\n",
        "time                                                                  \n",
        "2012-01-16 01:01:41  'Good Wife' Watch: Jason Biggs, Jim Cramer and...\n",
        "2013-03-12 20:28:27  Today's Scuttlebot: Bitcoin Problem and Tracki...\n",
        "2013-04-11 16:42:24                   Bitcoin Has Real-World Investors\n",
        "2013-04-11 17:20:13        TimesCast: Bitcoin Has Real-World Investors\n",
        "2013-04-12 15:55:16  Week in Review: From Banes of Zuckerberg to Bi..."
       ]
      }
     ],
     "prompt_number": 2
    },
    {
     "cell_type": "markdown",
     "metadata": {},
     "source": [
      "### Weekly count of news about bitcoin"
     ]
    },
    {
     "cell_type": "markdown",
     "metadata": {},
     "source": [
      "Average number of news per week"
     ]
    },
    {
     "cell_type": "code",
     "collapsed": false,
     "input": [
      "wkly_nyt = nyt_data.resample('w', how='count')\n",
      "wkly_nyt.mean()"
     ],
     "language": "python",
     "metadata": {},
     "outputs": [
      {
       "metadata": {},
       "output_type": "pyout",
       "prompt_number": 3,
       "text": [
        "headline    2.02994\n",
        "dtype: float64"
       ]
      }
     ],
     "prompt_number": 3
    },
    {
     "cell_type": "markdown",
     "metadata": {},
     "source": [
      "Weeks that do not have news at all"
     ]
    },
    {
     "cell_type": "code",
     "collapsed": false,
     "input": [
      "wkly_nyt[wkly_nyt['headline']==0].count() / float(wkly_nyt.size)"
     ],
     "language": "python",
     "metadata": {},
     "outputs": [
      {
       "metadata": {},
       "output_type": "pyout",
       "prompt_number": 4,
       "text": [
        "headline    0.54491\n",
        "dtype: float64"
       ]
      }
     ],
     "prompt_number": 4
    },
    {
     "cell_type": "markdown",
     "metadata": {},
     "source": [
      "### Look at data from 2013 only"
     ]
    },
    {
     "cell_type": "markdown",
     "metadata": {},
     "source": [
      "No news at all"
     ]
    },
    {
     "cell_type": "code",
     "collapsed": false,
     "input": [
      "wkly_nyt2013 = wkly_nyt['2013':]\n",
      "wkly_nyt2013[wkly_nyt2013['headline']==0].count() / float(wkly_nyt2013.size)"
     ],
     "language": "python",
     "metadata": {},
     "outputs": [
      {
       "metadata": {},
       "output_type": "pyout",
       "prompt_number": 5,
       "text": [
        "headline    0.358974\n",
        "dtype: float64"
       ]
      }
     ],
     "prompt_number": 5
    },
    {
     "cell_type": "code",
     "collapsed": false,
     "input": [
      "wkly_nyt2013.plot()"
     ],
     "language": "python",
     "metadata": {},
     "outputs": [
      {
       "metadata": {},
       "output_type": "pyout",
       "prompt_number": 6,
       "text": [
        "<matplotlib.axes.AxesSubplot at 0x10748da10>"
       ]
      },
      {
       "metadata": {},
       "output_type": "display_data",
       "png": "[encoded data removed]",
       "text": [
        "<matplotlib.figure.Figure at 0x103f7b090>"
       ]
      }
     ],
     "prompt_number": 6
    },
    {
     "cell_type": "markdown",
     "metadata": {},
     "source": [
      "### Data from 2014"
     ]
    },
    {
     "cell_type": "markdown",
     "metadata": {},
     "source": [
      "Total weeks"
     ]
    },
    {
     "cell_type": "code",
     "collapsed": false,
     "input": [
      "wkly_nyt2014 = wkly_nyt['2014':]\n",
      "wkly_nyt2014.size"
     ],
     "language": "python",
     "metadata": {},
     "outputs": [
      {
       "metadata": {},
       "output_type": "pyout",
       "prompt_number": 7,
       "text": [
        "65"
       ]
      }
     ],
     "prompt_number": 7
    },
    {
     "cell_type": "markdown",
     "metadata": {},
     "source": [
      "Weeks that do not have news about bitcoin at all"
     ]
    },
    {
     "cell_type": "code",
     "collapsed": false,
     "input": [
      "wkly_nyt2014[wkly_nyt2014['headline']==0].count() / float(wkly_nyt2014.size)"
     ],
     "language": "python",
     "metadata": {},
     "outputs": [
      {
       "metadata": {},
       "output_type": "pyout",
       "prompt_number": 8,
       "text": [
        "headline    0.092308\n",
        "dtype: float64"
       ]
      }
     ],
     "prompt_number": 8
    },
    {
     "cell_type": "markdown",
     "metadata": {},
     "source": [
      "## Weekly sentiment score analysis"
     ]
    },
    {
     "cell_type": "code",
     "collapsed": false,
     "input": [
      "score_data = pd.read_csv(\"./data/nyt_scored.csv\", index_col='time',\n",
      "                   parse_dates=[0], date_parser=lambda x: datetime.datetime.strptime(x, time_format))\n",
      "score_data.head()"
     ],
     "language": "python",
     "metadata": {},
     "outputs": [
      {
       "html": [
        "<div style=\"max-height:1000px;max-width:1500px;overflow:auto;\">\n",
        "<table border=\"1\" class=\"dataframe\">\n",
        "  <thead>\n",
        "    <tr style=\"text-align: right;\">\n",
        "      <th></th>\n",
        "      <th>headline</th>\n",
        "      <th>sentiment</th>\n",
        "      <th>sentimentValue</th>\n",
        "    </tr>\n",
        "    <tr>\n",
        "      <th>time</th>\n",
        "      <th></th>\n",
        "      <th></th>\n",
        "      <th></th>\n",
        "    </tr>\n",
        "  </thead>\n",
        "  <tbody>\n",
        "    <tr>\n",
        "      <th>2012-01-16 01:01:41</th>\n",
        "      <td> 'Good Wife' Watch: Jason Biggs, Jim Cramer and...</td>\n",
        "      <td> Negative</td>\n",
        "      <td> 1</td>\n",
        "    </tr>\n",
        "    <tr>\n",
        "      <th>2012-01-16 01:01:41</th>\n",
        "      <td> 'Good Wife' Watch: Jason Biggs, Jim Cramer and...</td>\n",
        "      <td> Negative</td>\n",
        "      <td> 1</td>\n",
        "    </tr>\n",
        "    <tr>\n",
        "      <th>2013-03-12 20:28:27</th>\n",
        "      <td> Today's Scuttlebot: Bitcoin Problem and Tracki...</td>\n",
        "      <td> Negative</td>\n",
        "      <td> 1</td>\n",
        "    </tr>\n",
        "    <tr>\n",
        "      <th>2013-04-11 16:42:24</th>\n",
        "      <td>                  Bitcoin Has Real-World Investors</td>\n",
        "      <td> Negative</td>\n",
        "      <td> 1</td>\n",
        "    </tr>\n",
        "    <tr>\n",
        "      <th>2013-04-11 17:20:13</th>\n",
        "      <td>       TimesCast: Bitcoin Has Real-World Investors</td>\n",
        "      <td> Negative</td>\n",
        "      <td> 1</td>\n",
        "    </tr>\n",
        "  </tbody>\n",
        "</table>\n",
        "</div>"
       ],
       "metadata": {},
       "output_type": "pyout",
       "prompt_number": 13,
       "text": [
        "                                                              headline  \\\n",
        "time                                                                     \n",
        "2012-01-16 01:01:41  'Good Wife' Watch: Jason Biggs, Jim Cramer and...   \n",
        "2012-01-16 01:01:41  'Good Wife' Watch: Jason Biggs, Jim Cramer and...   \n",
        "2013-03-12 20:28:27  Today's Scuttlebot: Bitcoin Problem and Tracki...   \n",
        "2013-04-11 16:42:24                   Bitcoin Has Real-World Investors   \n",
        "2013-04-11 17:20:13        TimesCast: Bitcoin Has Real-World Investors   \n",
        "\n",
        "                    sentiment  sentimentValue  \n",
        "time                                           \n",
        "2012-01-16 01:01:41  Negative               1  \n",
        "2012-01-16 01:01:41  Negative               1  \n",
        "2013-03-12 20:28:27  Negative               1  \n",
        "2013-04-11 16:42:24  Negative               1  \n",
        "2013-04-11 17:20:13  Negative               1  "
       ]
      }
     ],
     "prompt_number": 13
    },
    {
     "cell_type": "code",
     "collapsed": false,
     "input": [
      "score_data.sentiment.unique()"
     ],
     "language": "python",
     "metadata": {},
     "outputs": [
      {
       "metadata": {},
       "output_type": "pyout",
       "prompt_number": 21,
       "text": [
        "array(['Negative', 'Neutral', 'Positive'], dtype=object)"
       ]
      }
     ],
     "prompt_number": 21
    },
    {
     "cell_type": "code",
     "collapsed": false,
     "input": [
      "weekly_score = score_data.resample('w', how='mean').fillna(0)\n",
      "weekly_score.head()"
     ],
     "language": "python",
     "metadata": {},
     "outputs": [
      {
       "html": [
        "<div style=\"max-height:1000px;max-width:1500px;overflow:auto;\">\n",
        "<table border=\"1\" class=\"dataframe\">\n",
        "  <thead>\n",
        "    <tr style=\"text-align: right;\">\n",
        "      <th></th>\n",
        "      <th>sentimentValue</th>\n",
        "    </tr>\n",
        "    <tr>\n",
        "      <th>time</th>\n",
        "      <th></th>\n",
        "    </tr>\n",
        "  </thead>\n",
        "  <tbody>\n",
        "    <tr>\n",
        "      <th>2012-01-22</th>\n",
        "      <td> 1</td>\n",
        "    </tr>\n",
        "    <tr>\n",
        "      <th>2012-01-29</th>\n",
        "      <td> 0</td>\n",
        "    </tr>\n",
        "    <tr>\n",
        "      <th>2012-02-05</th>\n",
        "      <td> 0</td>\n",
        "    </tr>\n",
        "    <tr>\n",
        "      <th>2012-02-12</th>\n",
        "      <td> 0</td>\n",
        "    </tr>\n",
        "    <tr>\n",
        "      <th>2012-02-19</th>\n",
        "      <td> 0</td>\n",
        "    </tr>\n",
        "  </tbody>\n",
        "</table>\n",
        "</div>"
       ],
       "metadata": {},
       "output_type": "pyout",
       "prompt_number": 22,
       "text": [
        "            sentimentValue\n",
        "time                      \n",
        "2012-01-22               1\n",
        "2012-01-29               0\n",
        "2012-02-05               0\n",
        "2012-02-12               0\n",
        "2012-02-19               0"
       ]
      }
     ],
     "prompt_number": 22
    },
    {
     "cell_type": "code",
     "collapsed": false,
     "input": [
      "weekly_score.plot()"
     ],
     "language": "python",
     "metadata": {},
     "outputs": [
      {
       "metadata": {},
       "output_type": "pyout",
       "prompt_number": 23,
       "text": [
        "<matplotlib.axes.AxesSubplot at 0x107d25e10>"
       ]
      },
      {
       "metadata": {},
       "output_type": "display_data",
       "png": "[encoded data removed]",
       "text": [
        "<matplotlib.figure.Figure at 0x107d4c350>"
       ]
      }
     ],
     "prompt_number": 23
    },
    {
     "cell_type": "markdown",
     "metadata": {},
     "source": [
      "We are missing news for half of the all time"
     ]
    },
    {
     "cell_type": "code",
     "collapsed": false,
     "input": [
      "missing_news = 100*weekly_score[weekly_score.sentimentValue==0].count()/float(weekly_score.count())\n",
      "print \"Percentage of weeks without news:  %f%%\" % missing_news"
     ],
     "language": "python",
     "metadata": {},
     "outputs": [
      {
       "output_type": "stream",
       "stream": "stdout",
       "text": [
        "Percentage of weeks without news:  54.491018%\n"
       ]
      }
     ],
     "prompt_number": 26
    }
   ],
   "metadata": {}
  }
 ]
}