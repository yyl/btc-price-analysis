{
 "metadata": {
  "name": "",
  "signature": "sha256:5d3ce64e584acee78bf385ab7419de63413ef57f6b2add36e27988a326f125a2"
 },
 "nbformat": 3,
 "nbformat_minor": 0,
 "worksheets": [
  {
   "cells": [
    {
     "cell_type": "code",
     "collapsed": false,
     "input": [
      "import pandas as pd\n",
      "import datetime\n",
      "import numpy as np\n",
      "import scipy as sp\n",
      "import os\n",
      "import matplotlib.pyplot as plt\n",
      "import matplotlib\n",
      "from ggplot import geom_point\n",
      "%matplotlib inline\n",
      "# font = {'size'   : 18}\n",
      "# matplotlib.rc('font', **font)\n",
      "matplotlib.rcParams['figure.figsize'] = (12.0, 6.0)"
     ],
     "language": "python",
     "metadata": {},
     "outputs": [],
     "prompt_number": 81
    },
    {
     "cell_type": "markdown",
     "metadata": {},
     "source": [
      "## reading google trend data\n",
      "\n",
      "Google trend data seems to be updated since the orignal google trend paper. Currently, we are unable to get the absolute search volume data. Instead, for each week, we get a [normalized search interest index](https://support.google.com/trends/answer/4365533?hl=en). This index seems to be ranging from 0 to 100. The index is normalized against the search region. Therefore, it shows more of a search \"density\", instead of the pure count of searches.\n",
      "\n",
      "This update might render the replicate not possible."
     ]
    },
    {
     "cell_type": "code",
     "collapsed": false,
     "input": [
      "# parse data from google trend\n",
      "def parseWeek(w):\n",
      "    return w.split(\" - \")[1]"
     ],
     "language": "python",
     "metadata": {},
     "outputs": [],
     "prompt_number": 82
    },
    {
     "cell_type": "markdown",
     "metadata": {},
     "source": [
      "In this replicate, we focus on one keyword, 'Bitcoin'."
     ]
    },
    {
     "cell_type": "code",
     "collapsed": false,
     "input": [
      "trend = pd.read_csv(\"./trend.csv\", converters={0:parseWeek})\n",
      "trend['Week'] = pd.to_datetime(trend['Week'])\n",
      "trend.set_index(['Week'], inplace=True)\n",
      "trend.columns = ['search']\n",
      "trend.head()"
     ],
     "language": "python",
     "metadata": {},
     "outputs": [
      {
       "html": [
        "<div style=\"max-height:1000px;max-width:1500px;overflow:auto;\">\n",
        "<table border=\"1\" class=\"dataframe\">\n",
        "  <thead>\n",
        "    <tr style=\"text-align: right;\">\n",
        "      <th></th>\n",
        "      <th>search</th>\n",
        "    </tr>\n",
        "    <tr>\n",
        "      <th>Week</th>\n",
        "      <th></th>\n",
        "    </tr>\n",
        "  </thead>\n",
        "  <tbody>\n",
        "    <tr>\n",
        "      <th>2012-01-07</th>\n",
        "      <td> 2</td>\n",
        "    </tr>\n",
        "    <tr>\n",
        "      <th>2012-01-14</th>\n",
        "      <td> 2</td>\n",
        "    </tr>\n",
        "    <tr>\n",
        "      <th>2012-01-21</th>\n",
        "      <td> 4</td>\n",
        "    </tr>\n",
        "    <tr>\n",
        "      <th>2012-01-28</th>\n",
        "      <td> 2</td>\n",
        "    </tr>\n",
        "    <tr>\n",
        "      <th>2012-02-04</th>\n",
        "      <td> 2</td>\n",
        "    </tr>\n",
        "  </tbody>\n",
        "</table>\n",
        "</div>"
       ],
       "metadata": {},
       "output_type": "pyout",
       "prompt_number": 83,
       "text": [
        "            search\n",
        "Week              \n",
        "2012-01-07       2\n",
        "2012-01-14       2\n",
        "2012-01-21       4\n",
        "2012-01-28       2\n",
        "2012-02-04       2"
       ]
      }
     ],
     "prompt_number": 83
    },
    {
     "cell_type": "markdown",
     "metadata": {},
     "source": [
      "We use the Bitcoin price index data from coinbase. Resample it per week starting at every Saturday to match google trend data."
     ]
    },
    {
     "cell_type": "code",
     "collapsed": false,
     "input": [
      "time_format = \"%Y-%m-%dT%H:%M:%S\"\n",
      "data = pd.read_csv(\"./data.csv\", names=['time', 'price'], index_col='time',\n",
      "                   parse_dates=[0], date_parser=lambda x: datetime.datetime.strptime(x[:-6], time_format))\n",
      "bpi = data.resample('w-sat', how='ohlc')\n",
      "bpi.index.name = 'Week'\n",
      "bpi = pd.DataFrame(bpi['price']['close'])\n",
      "bpi.head()"
     ],
     "language": "python",
     "metadata": {},
     "outputs": [
      {
       "html": [
        "<div style=\"max-height:1000px;max-width:1500px;overflow:auto;\">\n",
        "<table border=\"1\" class=\"dataframe\">\n",
        "  <thead>\n",
        "    <tr style=\"text-align: right;\">\n",
        "      <th></th>\n",
        "      <th>close</th>\n",
        "    </tr>\n",
        "    <tr>\n",
        "      <th>Week</th>\n",
        "      <th></th>\n",
        "    </tr>\n",
        "  </thead>\n",
        "  <tbody>\n",
        "    <tr>\n",
        "      <th>2010-07-17</th>\n",
        "      <td> 0.05</td>\n",
        "    </tr>\n",
        "    <tr>\n",
        "      <th>2010-07-24</th>\n",
        "      <td> 0.06</td>\n",
        "    </tr>\n",
        "    <tr>\n",
        "      <th>2010-07-31</th>\n",
        "      <td> 0.06</td>\n",
        "    </tr>\n",
        "    <tr>\n",
        "      <th>2010-08-07</th>\n",
        "      <td> 0.06</td>\n",
        "    </tr>\n",
        "    <tr>\n",
        "      <th>2010-08-14</th>\n",
        "      <td> 0.07</td>\n",
        "    </tr>\n",
        "  </tbody>\n",
        "</table>\n",
        "</div>"
       ],
       "metadata": {},
       "output_type": "pyout",
       "prompt_number": 84,
       "text": [
        "            close\n",
        "Week             \n",
        "2010-07-17   0.05\n",
        "2010-07-24   0.06\n",
        "2010-07-31   0.06\n",
        "2010-08-07   0.06\n",
        "2010-08-14   0.07"
       ]
      }
     ],
     "prompt_number": 84
    },
    {
     "cell_type": "code",
     "collapsed": false,
     "input": [
      "trend_bpi = pd.merge(trend, bpi, how='right', left_index=True, right_index=True)\n",
      "trend_bpi.columns = ['search', 'close_price']\n",
      "trend_bpi = trend_bpi['2013':]\n",
      "trend_bpi.head()"
     ],
     "language": "python",
     "metadata": {},
     "outputs": [
      {
       "html": [
        "<div style=\"max-height:1000px;max-width:1500px;overflow:auto;\">\n",
        "<table border=\"1\" class=\"dataframe\">\n",
        "  <thead>\n",
        "    <tr style=\"text-align: right;\">\n",
        "      <th></th>\n",
        "      <th>search</th>\n",
        "      <th>close_price</th>\n",
        "    </tr>\n",
        "    <tr>\n",
        "      <th>Week</th>\n",
        "      <th></th>\n",
        "      <th></th>\n",
        "    </tr>\n",
        "  </thead>\n",
        "  <tbody>\n",
        "    <tr>\n",
        "      <th>2013-01-05</th>\n",
        "      <td> 3</td>\n",
        "      <td> 13.36</td>\n",
        "    </tr>\n",
        "    <tr>\n",
        "      <th>2013-01-12</th>\n",
        "      <td> 4</td>\n",
        "      <td> 14.25</td>\n",
        "    </tr>\n",
        "    <tr>\n",
        "      <th>2013-01-19</th>\n",
        "      <td> 3</td>\n",
        "      <td> 15.80</td>\n",
        "    </tr>\n",
        "    <tr>\n",
        "      <th>2013-01-26</th>\n",
        "      <td> 4</td>\n",
        "      <td> 17.44</td>\n",
        "    </tr>\n",
        "    <tr>\n",
        "      <th>2013-02-02</th>\n",
        "      <td> 5</td>\n",
        "      <td> 19.87</td>\n",
        "    </tr>\n",
        "  </tbody>\n",
        "</table>\n",
        "</div>"
       ],
       "metadata": {},
       "output_type": "pyout",
       "prompt_number": 85,
       "text": [
        "            search  close_price\n",
        "Week                           \n",
        "2013-01-05       3        13.36\n",
        "2013-01-12       4        14.25\n",
        "2013-01-19       3        15.80\n",
        "2013-01-26       4        17.44\n",
        "2013-02-02       5        19.87"
       ]
      }
     ],
     "prompt_number": 85
    },
    {
     "cell_type": "markdown",
     "metadata": {},
     "source": [
      "#### BPI and search interest plot"
     ]
    },
    {
     "cell_type": "code",
     "collapsed": false,
     "input": [
      "plt.figure()\n",
      "ax = trend_bpi.plot(secondary_y=['close_price'])"
     ],
     "language": "python",
     "metadata": {},
     "outputs": [
      {
       "metadata": {},
       "output_type": "display_data",
       "text": [
        "<matplotlib.figure.Figure at 0x109dc9f50>"
       ]
      },
      {
       "metadata": {},
       "output_type": "display_data",
       "png": "[encoded data removed]",
       "text": [
        "<matplotlib.figure.Figure at 0x109db7f50>"
       ]
      }
     ],
     "prompt_number": 86
    },
    {
     "cell_type": "markdown",
     "metadata": {},
     "source": [
      "Correlation given by Pearson's coefficient"
     ]
    },
    {
     "cell_type": "code",
     "collapsed": false,
     "input": [
      "trend_bpi.corr()"
     ],
     "language": "python",
     "metadata": {},
     "outputs": [
      {
       "html": [
        "<div style=\"max-height:1000px;max-width:1500px;overflow:auto;\">\n",
        "<table border=\"1\" class=\"dataframe\">\n",
        "  <thead>\n",
        "    <tr style=\"text-align: right;\">\n",
        "      <th></th>\n",
        "      <th>search</th>\n",
        "      <th>close_price</th>\n",
        "    </tr>\n",
        "  </thead>\n",
        "  <tbody>\n",
        "    <tr>\n",
        "      <th>search</th>\n",
        "      <td> 1.000000</td>\n",
        "      <td> 0.619631</td>\n",
        "    </tr>\n",
        "    <tr>\n",
        "      <th>close_price</th>\n",
        "      <td> 0.619631</td>\n",
        "      <td> 1.000000</td>\n",
        "    </tr>\n",
        "  </tbody>\n",
        "</table>\n",
        "</div>"
       ],
       "metadata": {},
       "output_type": "pyout",
       "prompt_number": 87,
       "text": [
        "               search  close_price\n",
        "search       1.000000     0.619631\n",
        "close_price  0.619631     1.000000"
       ]
      }
     ],
     "prompt_number": 87
    },
    {
     "cell_type": "markdown",
     "metadata": {},
     "source": [
      "#### BPI v. search interest (relative change)\n",
      "\n",
      "Similar to return index, here we calculate the change of both variables (BPI and search interest) each week compared with last week. We only show 2014 to 2015 as previous variance is too big."
     ]
    },
    {
     "cell_type": "code",
     "collapsed": false,
     "input": [
      "trend_bpi['2014':'2015'].pct_change().plot()"
     ],
     "language": "python",
     "metadata": {},
     "outputs": [
      {
       "metadata": {},
       "output_type": "pyout",
       "prompt_number": 88,
       "text": [
        "<matplotlib.axes.AxesSubplot at 0x10fb1c090>"
       ]
      },
      {
       "metadata": {},
       "output_type": "display_data",
       "png": "[encoded data removed]",
       "text": [
        "<matplotlib.figure.Figure at 0x110e8aa50>"
       ]
      }
     ],
     "prompt_number": 88
    },
    {
     "cell_type": "markdown",
     "metadata": {},
     "source": [
      "Again, correlation."
     ]
    },
    {
     "cell_type": "code",
     "collapsed": false,
     "input": [
      "trend_bpi.pct_change().corr()"
     ],
     "language": "python",
     "metadata": {},
     "outputs": [
      {
       "html": [
        "<div style=\"max-height:1000px;max-width:1500px;overflow:auto;\">\n",
        "<table border=\"1\" class=\"dataframe\">\n",
        "  <thead>\n",
        "    <tr style=\"text-align: right;\">\n",
        "      <th></th>\n",
        "      <th>search</th>\n",
        "      <th>close_price</th>\n",
        "    </tr>\n",
        "  </thead>\n",
        "  <tbody>\n",
        "    <tr>\n",
        "      <th>search</th>\n",
        "      <td> 1.000000</td>\n",
        "      <td> 0.175886</td>\n",
        "    </tr>\n",
        "    <tr>\n",
        "      <th>close_price</th>\n",
        "      <td> 0.175886</td>\n",
        "      <td> 1.000000</td>\n",
        "    </tr>\n",
        "  </tbody>\n",
        "</table>\n",
        "</div>"
       ],
       "metadata": {},
       "output_type": "pyout",
       "prompt_number": 89,
       "text": [
        "               search  close_price\n",
        "search       1.000000     0.175886\n",
        "close_price  0.175886     1.000000"
       ]
      }
     ],
     "prompt_number": 89
    },
    {
     "cell_type": "markdown",
     "metadata": {},
     "source": [
      "Pearson correlation coefficient has been decreased once we start examining the return index instead of the actual value of two variables. Does this matter?"
     ]
    },
    {
     "cell_type": "markdown",
     "metadata": {},
     "source": [
      "## Replicating google trend paper"
     ]
    },
    {
     "cell_type": "markdown",
     "metadata": {},
     "source": [
      "We first take the moving average of the search interest index (3 weeks)."
     ]
    },
    {
     "cell_type": "code",
     "collapsed": false,
     "input": [
      "trend_bpi['rolling_search'] = pd.rolling_mean(trend_bpi.search, 2)\n",
      "trend_bpi.head()"
     ],
     "language": "python",
     "metadata": {},
     "outputs": [
      {
       "html": [
        "<div style=\"max-height:1000px;max-width:1500px;overflow:auto;\">\n",
        "<table border=\"1\" class=\"dataframe\">\n",
        "  <thead>\n",
        "    <tr style=\"text-align: right;\">\n",
        "      <th></th>\n",
        "      <th>search</th>\n",
        "      <th>close_price</th>\n",
        "      <th>rolling_search</th>\n",
        "    </tr>\n",
        "    <tr>\n",
        "      <th>Week</th>\n",
        "      <th></th>\n",
        "      <th></th>\n",
        "      <th></th>\n",
        "    </tr>\n",
        "  </thead>\n",
        "  <tbody>\n",
        "    <tr>\n",
        "      <th>2013-01-05</th>\n",
        "      <td> 3</td>\n",
        "      <td> 13.36</td>\n",
        "      <td> NaN</td>\n",
        "    </tr>\n",
        "    <tr>\n",
        "      <th>2013-01-12</th>\n",
        "      <td> 4</td>\n",
        "      <td> 14.25</td>\n",
        "      <td> 3.5</td>\n",
        "    </tr>\n",
        "    <tr>\n",
        "      <th>2013-01-19</th>\n",
        "      <td> 3</td>\n",
        "      <td> 15.80</td>\n",
        "      <td> 3.5</td>\n",
        "    </tr>\n",
        "    <tr>\n",
        "      <th>2013-01-26</th>\n",
        "      <td> 4</td>\n",
        "      <td> 17.44</td>\n",
        "      <td> 3.5</td>\n",
        "    </tr>\n",
        "    <tr>\n",
        "      <th>2013-02-02</th>\n",
        "      <td> 5</td>\n",
        "      <td> 19.87</td>\n",
        "      <td> 4.5</td>\n",
        "    </tr>\n",
        "  </tbody>\n",
        "</table>\n",
        "</div>"
       ],
       "metadata": {},
       "output_type": "pyout",
       "prompt_number": 90,
       "text": [
        "            search  close_price  rolling_search\n",
        "Week                                           \n",
        "2013-01-05       3        13.36             NaN\n",
        "2013-01-12       4        14.25             3.5\n",
        "2013-01-19       3        15.80             3.5\n",
        "2013-01-26       4        17.44             3.5\n",
        "2013-02-02       5        19.87             4.5"
       ]
      }
     ],
     "prompt_number": 90
    },
    {
     "cell_type": "markdown",
     "metadata": {},
     "source": [
      "We shift the moving average one week ahead, as we trying to predict BPI based on previous search interest."
     ]
    },
    {
     "cell_type": "code",
     "collapsed": false,
     "input": [
      "trend_bpi['rolling_search'] = trend_bpi.rolling_search.shift(1)\n",
      "trend_bpi.head()"
     ],
     "language": "python",
     "metadata": {},
     "outputs": [
      {
       "html": [
        "<div style=\"max-height:1000px;max-width:1500px;overflow:auto;\">\n",
        "<table border=\"1\" class=\"dataframe\">\n",
        "  <thead>\n",
        "    <tr style=\"text-align: right;\">\n",
        "      <th></th>\n",
        "      <th>search</th>\n",
        "      <th>close_price</th>\n",
        "      <th>rolling_search</th>\n",
        "    </tr>\n",
        "    <tr>\n",
        "      <th>Week</th>\n",
        "      <th></th>\n",
        "      <th></th>\n",
        "      <th></th>\n",
        "    </tr>\n",
        "  </thead>\n",
        "  <tbody>\n",
        "    <tr>\n",
        "      <th>2013-01-05</th>\n",
        "      <td> 3</td>\n",
        "      <td> 13.36</td>\n",
        "      <td> NaN</td>\n",
        "    </tr>\n",
        "    <tr>\n",
        "      <th>2013-01-12</th>\n",
        "      <td> 4</td>\n",
        "      <td> 14.25</td>\n",
        "      <td> NaN</td>\n",
        "    </tr>\n",
        "    <tr>\n",
        "      <th>2013-01-19</th>\n",
        "      <td> 3</td>\n",
        "      <td> 15.80</td>\n",
        "      <td> 3.5</td>\n",
        "    </tr>\n",
        "    <tr>\n",
        "      <th>2013-01-26</th>\n",
        "      <td> 4</td>\n",
        "      <td> 17.44</td>\n",
        "      <td> 3.5</td>\n",
        "    </tr>\n",
        "    <tr>\n",
        "      <th>2013-02-02</th>\n",
        "      <td> 5</td>\n",
        "      <td> 19.87</td>\n",
        "      <td> 3.5</td>\n",
        "    </tr>\n",
        "  </tbody>\n",
        "</table>\n",
        "</div>"
       ],
       "metadata": {},
       "output_type": "pyout",
       "prompt_number": 91,
       "text": [
        "            search  close_price  rolling_search\n",
        "Week                                           \n",
        "2013-01-05       3        13.36             NaN\n",
        "2013-01-12       4        14.25             NaN\n",
        "2013-01-19       3        15.80             3.5\n",
        "2013-01-26       4        17.44             3.5\n",
        "2013-02-02       5        19.87             3.5"
       ]
      }
     ],
     "prompt_number": 91
    },
    {
     "cell_type": "markdown",
     "metadata": {},
     "source": [
      "### Generate order signal\n",
      "\n",
      "We generate `order` data. If it is a `1`, it means at that particular week we buy BTC, and sell if it is `-1`. We assign the order signal based on the comparison of this week's search interest and the rolling mean of previous three weeks' search interest."
     ]
    },
    {
     "cell_type": "code",
     "collapsed": false,
     "input": [
      "trend_bpi['order'] = 0\n",
      "# sell and buy\n",
      "trend_bpi['order'][trend_bpi.search > trend_bpi.rolling_search] = -1\n",
      "# buy and sell\n",
      "trend_bpi['order'][trend_bpi.search < trend_bpi.rolling_search] = 1\n",
      "trend_bpi.head()"
     ],
     "language": "python",
     "metadata": {},
     "outputs": [
      {
       "html": [
        "<div style=\"max-height:1000px;max-width:1500px;overflow:auto;\">\n",
        "<table border=\"1\" class=\"dataframe\">\n",
        "  <thead>\n",
        "    <tr style=\"text-align: right;\">\n",
        "      <th></th>\n",
        "      <th>search</th>\n",
        "      <th>close_price</th>\n",
        "      <th>rolling_search</th>\n",
        "      <th>order</th>\n",
        "    </tr>\n",
        "    <tr>\n",
        "      <th>Week</th>\n",
        "      <th></th>\n",
        "      <th></th>\n",
        "      <th></th>\n",
        "      <th></th>\n",
        "    </tr>\n",
        "  </thead>\n",
        "  <tbody>\n",
        "    <tr>\n",
        "      <th>2013-01-05</th>\n",
        "      <td> 3</td>\n",
        "      <td> 13.36</td>\n",
        "      <td> NaN</td>\n",
        "      <td> 0</td>\n",
        "    </tr>\n",
        "    <tr>\n",
        "      <th>2013-01-12</th>\n",
        "      <td> 4</td>\n",
        "      <td> 14.25</td>\n",
        "      <td> NaN</td>\n",
        "      <td> 0</td>\n",
        "    </tr>\n",
        "    <tr>\n",
        "      <th>2013-01-19</th>\n",
        "      <td> 3</td>\n",
        "      <td> 15.80</td>\n",
        "      <td> 3.5</td>\n",
        "      <td> 1</td>\n",
        "    </tr>\n",
        "    <tr>\n",
        "      <th>2013-01-26</th>\n",
        "      <td> 4</td>\n",
        "      <td> 17.44</td>\n",
        "      <td> 3.5</td>\n",
        "      <td>-1</td>\n",
        "    </tr>\n",
        "    <tr>\n",
        "      <th>2013-02-02</th>\n",
        "      <td> 5</td>\n",
        "      <td> 19.87</td>\n",
        "      <td> 3.5</td>\n",
        "      <td>-1</td>\n",
        "    </tr>\n",
        "  </tbody>\n",
        "</table>\n",
        "</div>"
       ],
       "metadata": {},
       "output_type": "pyout",
       "prompt_number": 92,
       "text": [
        "            search  close_price  rolling_search  order\n",
        "Week                                                  \n",
        "2013-01-05       3        13.36             NaN      0\n",
        "2013-01-12       4        14.25             NaN      0\n",
        "2013-01-19       3        15.80             3.5      1\n",
        "2013-01-26       4        17.44             3.5     -1\n",
        "2013-02-02       5        19.87             3.5     -1"
       ]
      }
     ],
     "prompt_number": 92
    },
    {
     "cell_type": "markdown",
     "metadata": {},
     "source": [
      "We compute the weekly returns."
     ]
    },
    {
     "cell_type": "code",
     "collapsed": false,
     "input": [
      "trend_bpi['ret'] = trend_bpi.close_price.pct_change()\n",
      "trend_bpi.head()"
     ],
     "language": "python",
     "metadata": {},
     "outputs": [
      {
       "html": [
        "<div style=\"max-height:1000px;max-width:1500px;overflow:auto;\">\n",
        "<table border=\"1\" class=\"dataframe\">\n",
        "  <thead>\n",
        "    <tr style=\"text-align: right;\">\n",
        "      <th></th>\n",
        "      <th>search</th>\n",
        "      <th>close_price</th>\n",
        "      <th>rolling_search</th>\n",
        "      <th>order</th>\n",
        "      <th>ret</th>\n",
        "    </tr>\n",
        "    <tr>\n",
        "      <th>Week</th>\n",
        "      <th></th>\n",
        "      <th></th>\n",
        "      <th></th>\n",
        "      <th></th>\n",
        "      <th></th>\n",
        "    </tr>\n",
        "  </thead>\n",
        "  <tbody>\n",
        "    <tr>\n",
        "      <th>2013-01-05</th>\n",
        "      <td> 3</td>\n",
        "      <td> 13.36</td>\n",
        "      <td> NaN</td>\n",
        "      <td> 0</td>\n",
        "      <td>      NaN</td>\n",
        "    </tr>\n",
        "    <tr>\n",
        "      <th>2013-01-12</th>\n",
        "      <td> 4</td>\n",
        "      <td> 14.25</td>\n",
        "      <td> NaN</td>\n",
        "      <td> 0</td>\n",
        "      <td> 0.066617</td>\n",
        "    </tr>\n",
        "    <tr>\n",
        "      <th>2013-01-19</th>\n",
        "      <td> 3</td>\n",
        "      <td> 15.80</td>\n",
        "      <td> 3.5</td>\n",
        "      <td> 1</td>\n",
        "      <td> 0.108772</td>\n",
        "    </tr>\n",
        "    <tr>\n",
        "      <th>2013-01-26</th>\n",
        "      <td> 4</td>\n",
        "      <td> 17.44</td>\n",
        "      <td> 3.5</td>\n",
        "      <td>-1</td>\n",
        "      <td> 0.103797</td>\n",
        "    </tr>\n",
        "    <tr>\n",
        "      <th>2013-02-02</th>\n",
        "      <td> 5</td>\n",
        "      <td> 19.87</td>\n",
        "      <td> 3.5</td>\n",
        "      <td>-1</td>\n",
        "      <td> 0.139335</td>\n",
        "    </tr>\n",
        "  </tbody>\n",
        "</table>\n",
        "</div>"
       ],
       "metadata": {},
       "output_type": "pyout",
       "prompt_number": 93,
       "text": [
        "            search  close_price  rolling_search  order       ret\n",
        "Week                                                            \n",
        "2013-01-05       3        13.36             NaN      0       NaN\n",
        "2013-01-12       4        14.25             NaN      0  0.066617\n",
        "2013-01-19       3        15.80             3.5      1  0.108772\n",
        "2013-01-26       4        17.44             3.5     -1  0.103797\n",
        "2013-02-02       5        19.87             3.5     -1  0.139335"
       ]
      }
     ],
     "prompt_number": 93
    },
    {
     "cell_type": "markdown",
     "metadata": {},
     "source": [
      "We shift the return one week behind, as for each week, we are trying to buy/sell at that week, and sell/buy in the next week. Therefore the return of each order should be reflected in next week."
     ]
    },
    {
     "cell_type": "code",
     "collapsed": false,
     "input": [
      "trend_bpi.ret = trend_bpi.ret.shift(-1)\n",
      "trend_bpi.head()"
     ],
     "language": "python",
     "metadata": {},
     "outputs": [
      {
       "html": [
        "<div style=\"max-height:1000px;max-width:1500px;overflow:auto;\">\n",
        "<table border=\"1\" class=\"dataframe\">\n",
        "  <thead>\n",
        "    <tr style=\"text-align: right;\">\n",
        "      <th></th>\n",
        "      <th>search</th>\n",
        "      <th>close_price</th>\n",
        "      <th>rolling_search</th>\n",
        "      <th>order</th>\n",
        "      <th>ret</th>\n",
        "    </tr>\n",
        "    <tr>\n",
        "      <th>Week</th>\n",
        "      <th></th>\n",
        "      <th></th>\n",
        "      <th></th>\n",
        "      <th></th>\n",
        "      <th></th>\n",
        "    </tr>\n",
        "  </thead>\n",
        "  <tbody>\n",
        "    <tr>\n",
        "      <th>2013-01-05</th>\n",
        "      <td> 3</td>\n",
        "      <td> 13.36</td>\n",
        "      <td> NaN</td>\n",
        "      <td> 0</td>\n",
        "      <td> 0.066617</td>\n",
        "    </tr>\n",
        "    <tr>\n",
        "      <th>2013-01-12</th>\n",
        "      <td> 4</td>\n",
        "      <td> 14.25</td>\n",
        "      <td> NaN</td>\n",
        "      <td> 0</td>\n",
        "      <td> 0.108772</td>\n",
        "    </tr>\n",
        "    <tr>\n",
        "      <th>2013-01-19</th>\n",
        "      <td> 3</td>\n",
        "      <td> 15.80</td>\n",
        "      <td> 3.5</td>\n",
        "      <td> 1</td>\n",
        "      <td> 0.103797</td>\n",
        "    </tr>\n",
        "    <tr>\n",
        "      <th>2013-01-26</th>\n",
        "      <td> 4</td>\n",
        "      <td> 17.44</td>\n",
        "      <td> 3.5</td>\n",
        "      <td>-1</td>\n",
        "      <td> 0.139335</td>\n",
        "    </tr>\n",
        "    <tr>\n",
        "      <th>2013-02-02</th>\n",
        "      <td> 5</td>\n",
        "      <td> 19.87</td>\n",
        "      <td> 3.5</td>\n",
        "      <td>-1</td>\n",
        "      <td> 0.186714</td>\n",
        "    </tr>\n",
        "  </tbody>\n",
        "</table>\n",
        "</div>"
       ],
       "metadata": {},
       "output_type": "pyout",
       "prompt_number": 94,
       "text": [
        "            search  close_price  rolling_search  order       ret\n",
        "Week                                                            \n",
        "2013-01-05       3        13.36             NaN      0  0.066617\n",
        "2013-01-12       4        14.25             NaN      0  0.108772\n",
        "2013-01-19       3        15.80             3.5      1  0.103797\n",
        "2013-01-26       4        17.44             3.5     -1  0.139335\n",
        "2013-02-02       5        19.87             3.5     -1  0.186714"
       ]
      }
     ],
     "prompt_number": 94
    },
    {
     "cell_type": "markdown",
     "metadata": {},
     "source": [
      "Now we calculate the aggregate returns of all time starting with return being 1."
     ]
    },
    {
     "cell_type": "code",
     "collapsed": false,
     "input": [
      "trend_bpi['ret_search'] = trend_bpi.ret * trend_bpi.order"
     ],
     "language": "python",
     "metadata": {},
     "outputs": [],
     "prompt_number": 95
    },
    {
     "cell_type": "code",
     "collapsed": false,
     "input": [
      "trend_bpi.tail()"
     ],
     "language": "python",
     "metadata": {},
     "outputs": [
      {
       "html": [
        "<div style=\"max-height:1000px;max-width:1500px;overflow:auto;\">\n",
        "<table border=\"1\" class=\"dataframe\">\n",
        "  <thead>\n",
        "    <tr style=\"text-align: right;\">\n",
        "      <th></th>\n",
        "      <th>search</th>\n",
        "      <th>close_price</th>\n",
        "      <th>rolling_search</th>\n",
        "      <th>order</th>\n",
        "      <th>ret</th>\n",
        "      <th>ret_search</th>\n",
        "    </tr>\n",
        "    <tr>\n",
        "      <th>Week</th>\n",
        "      <th></th>\n",
        "      <th></th>\n",
        "      <th></th>\n",
        "      <th></th>\n",
        "      <th></th>\n",
        "      <th></th>\n",
        "    </tr>\n",
        "  </thead>\n",
        "  <tbody>\n",
        "    <tr>\n",
        "      <th>2015-02-21</th>\n",
        "      <td> 16</td>\n",
        "      <td> 246.87</td>\n",
        "      <td> 15.5</td>\n",
        "      <td>-1</td>\n",
        "      <td> 0.031717</td>\n",
        "      <td>-0.031717</td>\n",
        "    </tr>\n",
        "    <tr>\n",
        "      <th>2015-02-28</th>\n",
        "      <td> 14</td>\n",
        "      <td> 254.70</td>\n",
        "      <td> 16.0</td>\n",
        "      <td> 1</td>\n",
        "      <td> 0.090773</td>\n",
        "      <td> 0.090773</td>\n",
        "    </tr>\n",
        "    <tr>\n",
        "      <th>2015-03-07</th>\n",
        "      <td> 15</td>\n",
        "      <td> 277.82</td>\n",
        "      <td> 15.0</td>\n",
        "      <td> 0</td>\n",
        "      <td> 0.029911</td>\n",
        "      <td> 0.000000</td>\n",
        "    </tr>\n",
        "    <tr>\n",
        "      <th>2015-03-14</th>\n",
        "      <td> 15</td>\n",
        "      <td> 286.13</td>\n",
        "      <td> 14.5</td>\n",
        "      <td>-1</td>\n",
        "      <td> 0.021389</td>\n",
        "      <td>-0.021389</td>\n",
        "    </tr>\n",
        "    <tr>\n",
        "      <th>2015-03-21</th>\n",
        "      <td>NaN</td>\n",
        "      <td> 292.25</td>\n",
        "      <td> 15.0</td>\n",
        "      <td> 0</td>\n",
        "      <td>      NaN</td>\n",
        "      <td>      NaN</td>\n",
        "    </tr>\n",
        "  </tbody>\n",
        "</table>\n",
        "</div>"
       ],
       "metadata": {},
       "output_type": "pyout",
       "prompt_number": 96,
       "text": [
        "            search  close_price  rolling_search  order       ret  ret_search\n",
        "Week                                                                        \n",
        "2015-02-21      16       246.87            15.5     -1  0.031717   -0.031717\n",
        "2015-02-28      14       254.70            16.0      1  0.090773    0.090773\n",
        "2015-03-07      15       277.82            15.0      0  0.029911    0.000000\n",
        "2015-03-14      15       286.13            14.5     -1  0.021389   -0.021389\n",
        "2015-03-21     NaN       292.25            15.0      0       NaN         NaN"
       ]
      }
     ],
     "prompt_number": 96
    },
    {
     "cell_type": "code",
     "collapsed": false,
     "input": [
      "(1 + trend_bpi.ret_search).cumprod().plot();\n",
      "plt.ylabel('Portfolio value')"
     ],
     "language": "python",
     "metadata": {},
     "outputs": [
      {
       "metadata": {},
       "output_type": "pyout",
       "prompt_number": 97,
       "text": [
        "<matplotlib.text.Text at 0x109f1e9d0>"
       ]
      },
      {
       "metadata": {},
       "output_type": "display_data",
       "png": "[encoded data removed]",
       "text": [
        "<matplotlib.figure.Figure at 0x109ed4910>"
       ]
      }
     ],
     "prompt_number": 97
    }
   ],
   "metadata": {}
  }
 ]
}