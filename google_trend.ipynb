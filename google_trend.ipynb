{
 "metadata": {
  "name": "",
  "signature": "sha256:7380ec66e5cfb32ef066dfb47ec403efa91bef3c4231ff48e5a4bf2fdb69b7e4"
 },
 "nbformat": 3,
 "nbformat_minor": 0,
 "worksheets": [
  {
   "cells": [
    {
     "cell_type": "code",
     "collapsed": false,
     "input": [
      "import pandas as pd\n",
      "import datetime\n",
      "import numpy as np\n",
      "import scipy as sp\n",
      "import os\n",
      "import matplotlib.pyplot as plt\n",
      "import matplotlib\n",
      "from ggplot import geom_point\n",
      "%matplotlib inline\n",
      "# font = {'size'   : 18}\n",
      "# matplotlib.rc('font', **font)\n",
      "matplotlib.rcParams['figure.figsize'] = (12.0, 6.0)"
     ],
     "language": "python",
     "metadata": {},
     "outputs": [],
     "prompt_number": 168
    },
    {
     "cell_type": "markdown",
     "metadata": {},
     "source": [
      "#### reading files"
     ]
    },
    {
     "cell_type": "code",
     "collapsed": false,
     "input": [
      "def parseWeek(w):\n",
      "    return w.split(\" - \")[0]"
     ],
     "language": "python",
     "metadata": {},
     "outputs": [],
     "prompt_number": 169
    },
    {
     "cell_type": "markdown",
     "metadata": {},
     "source": [
      "google trend data, keyword 'Bitcoin'"
     ]
    },
    {
     "cell_type": "code",
     "collapsed": false,
     "input": [
      "trend = pd.read_csv(\"./trend.csv\", converters={0:parseWeek})\n",
      "trend['Week'] = pd.to_datetime(trend['Week'])\n",
      "trend.set_index(['Week'], inplace=True)\n",
      "trend.columns = ['search']\n",
      "trend.head()"
     ],
     "language": "python",
     "metadata": {},
     "outputs": [
      {
       "html": [
        "<div style=\"max-height:1000px;max-width:1500px;overflow:auto;\">\n",
        "<table border=\"1\" class=\"dataframe\">\n",
        "  <thead>\n",
        "    <tr style=\"text-align: right;\">\n",
        "      <th></th>\n",
        "      <th>search</th>\n",
        "    </tr>\n",
        "    <tr>\n",
        "      <th>Week</th>\n",
        "      <th></th>\n",
        "    </tr>\n",
        "  </thead>\n",
        "  <tbody>\n",
        "    <tr>\n",
        "      <th>2010-11-07</th>\n",
        "      <td> 0</td>\n",
        "    </tr>\n",
        "    <tr>\n",
        "      <th>2010-11-14</th>\n",
        "      <td> 0</td>\n",
        "    </tr>\n",
        "    <tr>\n",
        "      <th>2010-11-21</th>\n",
        "      <td> 0</td>\n",
        "    </tr>\n",
        "    <tr>\n",
        "      <th>2010-11-28</th>\n",
        "      <td> 0</td>\n",
        "    </tr>\n",
        "    <tr>\n",
        "      <th>2010-12-05</th>\n",
        "      <td> 0</td>\n",
        "    </tr>\n",
        "  </tbody>\n",
        "</table>\n",
        "</div>"
       ],
       "metadata": {},
       "output_type": "pyout",
       "prompt_number": 170,
       "text": [
        "            search\n",
        "Week              \n",
        "2010-11-07       0\n",
        "2010-11-14       0\n",
        "2010-11-21       0\n",
        "2010-11-28       0\n",
        "2010-12-05       0"
       ]
      }
     ],
     "prompt_number": 170
    },
    {
     "cell_type": "markdown",
     "metadata": {},
     "source": [
      "Bitcoin price index from coinbase"
     ]
    },
    {
     "cell_type": "code",
     "collapsed": false,
     "input": [
      "time_format = \"%Y-%m-%dT%H:%M:%S\"\n",
      "data = pd.read_csv(\"./data.csv\", names=['time', 'price'], index_col='time',\n",
      "                   parse_dates=[0], date_parser=lambda x: datetime.datetime.strptime(x[:-6], time_format))\n",
      "bpi = data.resample('w', how='ohlc')\n",
      "bpi.index.name = 'Week'\n",
      "bpi = pd.DataFrame(bpi['price']['close'])\n",
      "bpi.head()"
     ],
     "language": "python",
     "metadata": {},
     "outputs": [
      {
       "html": [
        "<div style=\"max-height:1000px;max-width:1500px;overflow:auto;\">\n",
        "<table border=\"1\" class=\"dataframe\">\n",
        "  <thead>\n",
        "    <tr style=\"text-align: right;\">\n",
        "      <th></th>\n",
        "      <th>close</th>\n",
        "    </tr>\n",
        "    <tr>\n",
        "      <th>Week</th>\n",
        "      <th></th>\n",
        "    </tr>\n",
        "  </thead>\n",
        "  <tbody>\n",
        "    <tr>\n",
        "      <th>2010-07-18</th>\n",
        "      <td> 0.09</td>\n",
        "    </tr>\n",
        "    <tr>\n",
        "      <th>2010-07-25</th>\n",
        "      <td> 0.05</td>\n",
        "    </tr>\n",
        "    <tr>\n",
        "      <th>2010-08-01</th>\n",
        "      <td> 0.06</td>\n",
        "    </tr>\n",
        "    <tr>\n",
        "      <th>2010-08-08</th>\n",
        "      <td> 0.06</td>\n",
        "    </tr>\n",
        "    <tr>\n",
        "      <th>2010-08-15</th>\n",
        "      <td> 0.07</td>\n",
        "    </tr>\n",
        "  </tbody>\n",
        "</table>\n",
        "</div>"
       ],
       "metadata": {},
       "output_type": "pyout",
       "prompt_number": 171,
       "text": [
        "            close\n",
        "Week             \n",
        "2010-07-18   0.09\n",
        "2010-07-25   0.05\n",
        "2010-08-01   0.06\n",
        "2010-08-08   0.06\n",
        "2010-08-15   0.07"
       ]
      }
     ],
     "prompt_number": 171
    },
    {
     "cell_type": "code",
     "collapsed": false,
     "input": [
      "trend_bpi = pd.merge(trend, bpi, how='right', left_index=True, right_index=True)\n",
      "trend_bpi.columns = ['search', 'close_price']\n",
      "trend_bpi = trend_bpi['2011':]\n",
      "trend_bpi.head()"
     ],
     "language": "python",
     "metadata": {},
     "outputs": [
      {
       "html": [
        "<div style=\"max-height:1000px;max-width:1500px;overflow:auto;\">\n",
        "<table border=\"1\" class=\"dataframe\">\n",
        "  <thead>\n",
        "    <tr style=\"text-align: right;\">\n",
        "      <th></th>\n",
        "      <th>search</th>\n",
        "      <th>close_price</th>\n",
        "    </tr>\n",
        "    <tr>\n",
        "      <th>Week</th>\n",
        "      <th></th>\n",
        "      <th></th>\n",
        "    </tr>\n",
        "  </thead>\n",
        "  <tbody>\n",
        "    <tr>\n",
        "      <th>2011-01-02</th>\n",
        "      <td> 0</td>\n",
        "      <td> 0.29</td>\n",
        "    </tr>\n",
        "    <tr>\n",
        "      <th>2011-01-09</th>\n",
        "      <td> 0</td>\n",
        "      <td> 0.32</td>\n",
        "    </tr>\n",
        "    <tr>\n",
        "      <th>2011-01-16</th>\n",
        "      <td> 0</td>\n",
        "      <td> 0.39</td>\n",
        "    </tr>\n",
        "    <tr>\n",
        "      <th>2011-01-23</th>\n",
        "      <td> 0</td>\n",
        "      <td> 0.42</td>\n",
        "    </tr>\n",
        "    <tr>\n",
        "      <th>2011-01-30</th>\n",
        "      <td> 0</td>\n",
        "      <td> 0.47</td>\n",
        "    </tr>\n",
        "  </tbody>\n",
        "</table>\n",
        "</div>"
       ],
       "metadata": {},
       "output_type": "pyout",
       "prompt_number": 172,
       "text": [
        "            search  close_price\n",
        "Week                           \n",
        "2011-01-02       0         0.29\n",
        "2011-01-09       0         0.32\n",
        "2011-01-16       0         0.39\n",
        "2011-01-23       0         0.42\n",
        "2011-01-30       0         0.47"
       ]
      }
     ],
     "prompt_number": 172
    },
    {
     "cell_type": "markdown",
     "metadata": {},
     "source": [
      "#### BPI and search interest"
     ]
    },
    {
     "cell_type": "code",
     "collapsed": false,
     "input": [
      "plt.figure()\n",
      "ax = trend_bpi.plot(secondary_y=['close_price'])"
     ],
     "language": "python",
     "metadata": {},
     "outputs": [
      {
       "metadata": {},
       "output_type": "display_data",
       "text": [
        "<matplotlib.figure.Figure at 0x115bf4850>"
       ]
      },
      {
       "metadata": {},
       "output_type": "display_data",
       "png": "[encoded data removed]",
       "text": [
        "<matplotlib.figure.Figure at 0x11511d790>"
       ]
      }
     ],
     "prompt_number": 173
    },
    {
     "cell_type": "code",
     "collapsed": false,
     "input": [
      "trend_bpi.corr()"
     ],
     "language": "python",
     "metadata": {},
     "outputs": [
      {
       "html": [
        "<div style=\"max-height:1000px;max-width:1500px;overflow:auto;\">\n",
        "<table border=\"1\" class=\"dataframe\">\n",
        "  <thead>\n",
        "    <tr style=\"text-align: right;\">\n",
        "      <th></th>\n",
        "      <th>search</th>\n",
        "      <th>close_price</th>\n",
        "    </tr>\n",
        "  </thead>\n",
        "  <tbody>\n",
        "    <tr>\n",
        "      <th>search</th>\n",
        "      <td> 1.000000</td>\n",
        "      <td> 0.754474</td>\n",
        "    </tr>\n",
        "    <tr>\n",
        "      <th>close_price</th>\n",
        "      <td> 0.754474</td>\n",
        "      <td> 1.000000</td>\n",
        "    </tr>\n",
        "  </tbody>\n",
        "</table>\n",
        "</div>"
       ],
       "metadata": {},
       "output_type": "pyout",
       "prompt_number": 174,
       "text": [
        "               search  close_price\n",
        "search       1.000000     0.754474\n",
        "close_price  0.754474     1.000000"
       ]
      }
     ],
     "prompt_number": 174
    },
    {
     "cell_type": "markdown",
     "metadata": {},
     "source": [
      "#### BPI v. search interest (relative change)\n",
      "\n",
      "Similar to return index, here we calculate the change of both variables (BPI and search interest) each week compared with last week."
     ]
    },
    {
     "cell_type": "code",
     "collapsed": false,
     "input": [
      "trend_bpi['2014':'2015'].pct_change().plot()"
     ],
     "language": "python",
     "metadata": {},
     "outputs": [
      {
       "metadata": {},
       "output_type": "pyout",
       "prompt_number": 175,
       "text": [
        "<matplotlib.axes.AxesSubplot at 0x1164fad10>"
       ]
      },
      {
       "metadata": {},
       "output_type": "display_data",
       "png": "[encoded data removed]",
       "text": [
        "<matplotlib.figure.Figure at 0x1164bb290>"
       ]
      }
     ],
     "prompt_number": 175
    },
    {
     "cell_type": "code",
     "collapsed": false,
     "input": [
      "trend_bpi.pct_change().corr()"
     ],
     "language": "python",
     "metadata": {},
     "outputs": [
      {
       "html": [
        "<div style=\"max-height:1000px;max-width:1500px;overflow:auto;\">\n",
        "<table border=\"1\" class=\"dataframe\">\n",
        "  <thead>\n",
        "    <tr style=\"text-align: right;\">\n",
        "      <th></th>\n",
        "      <th>search</th>\n",
        "      <th>close_price</th>\n",
        "    </tr>\n",
        "  </thead>\n",
        "  <tbody>\n",
        "    <tr>\n",
        "      <th>search</th>\n",
        "      <td> 1.000000</td>\n",
        "      <td> 0.399328</td>\n",
        "    </tr>\n",
        "    <tr>\n",
        "      <th>close_price</th>\n",
        "      <td> 0.399328</td>\n",
        "      <td> 1.000000</td>\n",
        "    </tr>\n",
        "  </tbody>\n",
        "</table>\n",
        "</div>"
       ],
       "metadata": {},
       "output_type": "pyout",
       "prompt_number": 176,
       "text": [
        "               search  close_price\n",
        "search       1.000000     0.399328\n",
        "close_price  0.399328     1.000000"
       ]
      }
     ],
     "prompt_number": 176
    },
    {
     "cell_type": "markdown",
     "metadata": {},
     "source": [
      "Pearson correlation coefficient has been decreased once we start examining the return index instead of the actual value of two variables. Does this matter?"
     ]
    },
    {
     "cell_type": "markdown",
     "metadata": {},
     "source": [
      "### Replicating google trend paper"
     ]
    },
    {
     "cell_type": "code",
     "collapsed": false,
     "input": [
      "trend_bpi['rolling_search'] = pd.rolling_mean(trend_bpi.search, 3)\n",
      "trend_bpi.head()"
     ],
     "language": "python",
     "metadata": {},
     "outputs": [
      {
       "html": [
        "<div style=\"max-height:1000px;max-width:1500px;overflow:auto;\">\n",
        "<table border=\"1\" class=\"dataframe\">\n",
        "  <thead>\n",
        "    <tr style=\"text-align: right;\">\n",
        "      <th></th>\n",
        "      <th>search</th>\n",
        "      <th>close_price</th>\n",
        "      <th>rolling_search</th>\n",
        "    </tr>\n",
        "    <tr>\n",
        "      <th>Week</th>\n",
        "      <th></th>\n",
        "      <th></th>\n",
        "      <th></th>\n",
        "    </tr>\n",
        "  </thead>\n",
        "  <tbody>\n",
        "    <tr>\n",
        "      <th>2011-01-02</th>\n",
        "      <td> 0</td>\n",
        "      <td> 0.29</td>\n",
        "      <td>NaN</td>\n",
        "    </tr>\n",
        "    <tr>\n",
        "      <th>2011-01-09</th>\n",
        "      <td> 0</td>\n",
        "      <td> 0.32</td>\n",
        "      <td>NaN</td>\n",
        "    </tr>\n",
        "    <tr>\n",
        "      <th>2011-01-16</th>\n",
        "      <td> 0</td>\n",
        "      <td> 0.39</td>\n",
        "      <td>  0</td>\n",
        "    </tr>\n",
        "    <tr>\n",
        "      <th>2011-01-23</th>\n",
        "      <td> 0</td>\n",
        "      <td> 0.42</td>\n",
        "      <td>  0</td>\n",
        "    </tr>\n",
        "    <tr>\n",
        "      <th>2011-01-30</th>\n",
        "      <td> 0</td>\n",
        "      <td> 0.47</td>\n",
        "      <td>  0</td>\n",
        "    </tr>\n",
        "  </tbody>\n",
        "</table>\n",
        "</div>"
       ],
       "metadata": {},
       "output_type": "pyout",
       "prompt_number": 177,
       "text": [
        "            search  close_price  rolling_search\n",
        "Week                                           \n",
        "2011-01-02       0         0.29             NaN\n",
        "2011-01-09       0         0.32             NaN\n",
        "2011-01-16       0         0.39               0\n",
        "2011-01-23       0         0.42               0\n",
        "2011-01-30       0         0.47               0"
       ]
      }
     ],
     "prompt_number": 177
    },
    {
     "cell_type": "code",
     "collapsed": false,
     "input": [
      "trend_bpi['rolling_search'] = trend_bpi.rolling_search.shift(1)\n",
      "trend_bpi.head()"
     ],
     "language": "python",
     "metadata": {},
     "outputs": [
      {
       "html": [
        "<div style=\"max-height:1000px;max-width:1500px;overflow:auto;\">\n",
        "<table border=\"1\" class=\"dataframe\">\n",
        "  <thead>\n",
        "    <tr style=\"text-align: right;\">\n",
        "      <th></th>\n",
        "      <th>search</th>\n",
        "      <th>close_price</th>\n",
        "      <th>rolling_search</th>\n",
        "    </tr>\n",
        "    <tr>\n",
        "      <th>Week</th>\n",
        "      <th></th>\n",
        "      <th></th>\n",
        "      <th></th>\n",
        "    </tr>\n",
        "  </thead>\n",
        "  <tbody>\n",
        "    <tr>\n",
        "      <th>2011-01-02</th>\n",
        "      <td> 0</td>\n",
        "      <td> 0.29</td>\n",
        "      <td>NaN</td>\n",
        "    </tr>\n",
        "    <tr>\n",
        "      <th>2011-01-09</th>\n",
        "      <td> 0</td>\n",
        "      <td> 0.32</td>\n",
        "      <td>NaN</td>\n",
        "    </tr>\n",
        "    <tr>\n",
        "      <th>2011-01-16</th>\n",
        "      <td> 0</td>\n",
        "      <td> 0.39</td>\n",
        "      <td>NaN</td>\n",
        "    </tr>\n",
        "    <tr>\n",
        "      <th>2011-01-23</th>\n",
        "      <td> 0</td>\n",
        "      <td> 0.42</td>\n",
        "      <td>  0</td>\n",
        "    </tr>\n",
        "    <tr>\n",
        "      <th>2011-01-30</th>\n",
        "      <td> 0</td>\n",
        "      <td> 0.47</td>\n",
        "      <td>  0</td>\n",
        "    </tr>\n",
        "  </tbody>\n",
        "</table>\n",
        "</div>"
       ],
       "metadata": {},
       "output_type": "pyout",
       "prompt_number": 178,
       "text": [
        "            search  close_price  rolling_search\n",
        "Week                                           \n",
        "2011-01-02       0         0.29             NaN\n",
        "2011-01-09       0         0.32             NaN\n",
        "2011-01-16       0         0.39             NaN\n",
        "2011-01-23       0         0.42               0\n",
        "2011-01-30       0         0.47               0"
       ]
      }
     ],
     "prompt_number": 178
    },
    {
     "cell_type": "markdown",
     "metadata": {},
     "source": [
      "generate order signal"
     ]
    },
    {
     "cell_type": "code",
     "collapsed": false,
     "input": [
      "trend_bpi['order'] = 0\n",
      "# sell and buy\n",
      "trend_bpi['order'][trend_bpi.search > trend_bpi.rolling_search] = -1\n",
      "# buy and sell\n",
      "trend_bpi['order'][trend_bpi.search < trend_bpi.rolling_search] = 1\n",
      "trend_bpi.head()"
     ],
     "language": "python",
     "metadata": {},
     "outputs": [
      {
       "html": [
        "<div style=\"max-height:1000px;max-width:1500px;overflow:auto;\">\n",
        "<table border=\"1\" class=\"dataframe\">\n",
        "  <thead>\n",
        "    <tr style=\"text-align: right;\">\n",
        "      <th></th>\n",
        "      <th>search</th>\n",
        "      <th>close_price</th>\n",
        "      <th>rolling_search</th>\n",
        "      <th>order</th>\n",
        "    </tr>\n",
        "    <tr>\n",
        "      <th>Week</th>\n",
        "      <th></th>\n",
        "      <th></th>\n",
        "      <th></th>\n",
        "      <th></th>\n",
        "    </tr>\n",
        "  </thead>\n",
        "  <tbody>\n",
        "    <tr>\n",
        "      <th>2011-01-02</th>\n",
        "      <td> 0</td>\n",
        "      <td> 0.29</td>\n",
        "      <td>NaN</td>\n",
        "      <td> 0</td>\n",
        "    </tr>\n",
        "    <tr>\n",
        "      <th>2011-01-09</th>\n",
        "      <td> 0</td>\n",
        "      <td> 0.32</td>\n",
        "      <td>NaN</td>\n",
        "      <td> 0</td>\n",
        "    </tr>\n",
        "    <tr>\n",
        "      <th>2011-01-16</th>\n",
        "      <td> 0</td>\n",
        "      <td> 0.39</td>\n",
        "      <td>NaN</td>\n",
        "      <td> 0</td>\n",
        "    </tr>\n",
        "    <tr>\n",
        "      <th>2011-01-23</th>\n",
        "      <td> 0</td>\n",
        "      <td> 0.42</td>\n",
        "      <td>  0</td>\n",
        "      <td> 0</td>\n",
        "    </tr>\n",
        "    <tr>\n",
        "      <th>2011-01-30</th>\n",
        "      <td> 0</td>\n",
        "      <td> 0.47</td>\n",
        "      <td>  0</td>\n",
        "      <td> 0</td>\n",
        "    </tr>\n",
        "  </tbody>\n",
        "</table>\n",
        "</div>"
       ],
       "metadata": {},
       "output_type": "pyout",
       "prompt_number": 179,
       "text": [
        "            search  close_price  rolling_search  order\n",
        "Week                                                  \n",
        "2011-01-02       0         0.29             NaN      0\n",
        "2011-01-09       0         0.32             NaN      0\n",
        "2011-01-16       0         0.39             NaN      0\n",
        "2011-01-23       0         0.42               0      0\n",
        "2011-01-30       0         0.47               0      0"
       ]
      }
     ],
     "prompt_number": 179
    },
    {
     "cell_type": "markdown",
     "metadata": {},
     "source": [
      "compute returns"
     ]
    },
    {
     "cell_type": "code",
     "collapsed": false,
     "input": [
      "trend_bpi['ret'] = trend_bpi.close_price.pct_change()\n",
      "trend_bpi.head()"
     ],
     "language": "python",
     "metadata": {},
     "outputs": [
      {
       "html": [
        "<div style=\"max-height:1000px;max-width:1500px;overflow:auto;\">\n",
        "<table border=\"1\" class=\"dataframe\">\n",
        "  <thead>\n",
        "    <tr style=\"text-align: right;\">\n",
        "      <th></th>\n",
        "      <th>search</th>\n",
        "      <th>close_price</th>\n",
        "      <th>rolling_search</th>\n",
        "      <th>order</th>\n",
        "      <th>ret</th>\n",
        "    </tr>\n",
        "    <tr>\n",
        "      <th>Week</th>\n",
        "      <th></th>\n",
        "      <th></th>\n",
        "      <th></th>\n",
        "      <th></th>\n",
        "      <th></th>\n",
        "    </tr>\n",
        "  </thead>\n",
        "  <tbody>\n",
        "    <tr>\n",
        "      <th>2011-01-02</th>\n",
        "      <td> 0</td>\n",
        "      <td> 0.29</td>\n",
        "      <td>NaN</td>\n",
        "      <td> 0</td>\n",
        "      <td>      NaN</td>\n",
        "    </tr>\n",
        "    <tr>\n",
        "      <th>2011-01-09</th>\n",
        "      <td> 0</td>\n",
        "      <td> 0.32</td>\n",
        "      <td>NaN</td>\n",
        "      <td> 0</td>\n",
        "      <td> 0.103448</td>\n",
        "    </tr>\n",
        "    <tr>\n",
        "      <th>2011-01-16</th>\n",
        "      <td> 0</td>\n",
        "      <td> 0.39</td>\n",
        "      <td>NaN</td>\n",
        "      <td> 0</td>\n",
        "      <td> 0.218750</td>\n",
        "    </tr>\n",
        "    <tr>\n",
        "      <th>2011-01-23</th>\n",
        "      <td> 0</td>\n",
        "      <td> 0.42</td>\n",
        "      <td>  0</td>\n",
        "      <td> 0</td>\n",
        "      <td> 0.076923</td>\n",
        "    </tr>\n",
        "    <tr>\n",
        "      <th>2011-01-30</th>\n",
        "      <td> 0</td>\n",
        "      <td> 0.47</td>\n",
        "      <td>  0</td>\n",
        "      <td> 0</td>\n",
        "      <td> 0.119048</td>\n",
        "    </tr>\n",
        "  </tbody>\n",
        "</table>\n",
        "</div>"
       ],
       "metadata": {},
       "output_type": "pyout",
       "prompt_number": 180,
       "text": [
        "            search  close_price  rolling_search  order       ret\n",
        "Week                                                            \n",
        "2011-01-02       0         0.29             NaN      0       NaN\n",
        "2011-01-09       0         0.32             NaN      0  0.103448\n",
        "2011-01-16       0         0.39             NaN      0  0.218750\n",
        "2011-01-23       0         0.42               0      0  0.076923\n",
        "2011-01-30       0         0.47               0      0  0.119048"
       ]
      }
     ],
     "prompt_number": 180
    },
    {
     "cell_type": "code",
     "collapsed": false,
     "input": [
      "trend_bpi.ret = trend_bpi.ret.shift(-1)\n",
      "trend_bpi.head()"
     ],
     "language": "python",
     "metadata": {},
     "outputs": [
      {
       "html": [
        "<div style=\"max-height:1000px;max-width:1500px;overflow:auto;\">\n",
        "<table border=\"1\" class=\"dataframe\">\n",
        "  <thead>\n",
        "    <tr style=\"text-align: right;\">\n",
        "      <th></th>\n",
        "      <th>search</th>\n",
        "      <th>close_price</th>\n",
        "      <th>rolling_search</th>\n",
        "      <th>order</th>\n",
        "      <th>ret</th>\n",
        "    </tr>\n",
        "    <tr>\n",
        "      <th>Week</th>\n",
        "      <th></th>\n",
        "      <th></th>\n",
        "      <th></th>\n",
        "      <th></th>\n",
        "      <th></th>\n",
        "    </tr>\n",
        "  </thead>\n",
        "  <tbody>\n",
        "    <tr>\n",
        "      <th>2011-01-02</th>\n",
        "      <td> 0</td>\n",
        "      <td> 0.29</td>\n",
        "      <td>NaN</td>\n",
        "      <td> 0</td>\n",
        "      <td> 0.103448</td>\n",
        "    </tr>\n",
        "    <tr>\n",
        "      <th>2011-01-09</th>\n",
        "      <td> 0</td>\n",
        "      <td> 0.32</td>\n",
        "      <td>NaN</td>\n",
        "      <td> 0</td>\n",
        "      <td> 0.218750</td>\n",
        "    </tr>\n",
        "    <tr>\n",
        "      <th>2011-01-16</th>\n",
        "      <td> 0</td>\n",
        "      <td> 0.39</td>\n",
        "      <td>NaN</td>\n",
        "      <td> 0</td>\n",
        "      <td> 0.076923</td>\n",
        "    </tr>\n",
        "    <tr>\n",
        "      <th>2011-01-23</th>\n",
        "      <td> 0</td>\n",
        "      <td> 0.42</td>\n",
        "      <td>  0</td>\n",
        "      <td> 0</td>\n",
        "      <td> 0.119048</td>\n",
        "    </tr>\n",
        "    <tr>\n",
        "      <th>2011-01-30</th>\n",
        "      <td> 0</td>\n",
        "      <td> 0.47</td>\n",
        "      <td>  0</td>\n",
        "      <td> 0</td>\n",
        "      <td> 0.851064</td>\n",
        "    </tr>\n",
        "  </tbody>\n",
        "</table>\n",
        "</div>"
       ],
       "metadata": {},
       "output_type": "pyout",
       "prompt_number": 181,
       "text": [
        "            search  close_price  rolling_search  order       ret\n",
        "Week                                                            \n",
        "2011-01-02       0         0.29             NaN      0  0.103448\n",
        "2011-01-09       0         0.32             NaN      0  0.218750\n",
        "2011-01-16       0         0.39             NaN      0  0.076923\n",
        "2011-01-23       0         0.42               0      0  0.119048\n",
        "2011-01-30       0         0.47               0      0  0.851064"
       ]
      }
     ],
     "prompt_number": 181
    },
    {
     "cell_type": "code",
     "collapsed": false,
     "input": [
      "trend_bpi['ret_search'] = trend_bpi.ret * trend_bpi.order\n",
      "trend_bpi.tail()"
     ],
     "language": "python",
     "metadata": {},
     "outputs": [
      {
       "html": [
        "<div style=\"max-height:1000px;max-width:1500px;overflow:auto;\">\n",
        "<table border=\"1\" class=\"dataframe\">\n",
        "  <thead>\n",
        "    <tr style=\"text-align: right;\">\n",
        "      <th></th>\n",
        "      <th>search</th>\n",
        "      <th>close_price</th>\n",
        "      <th>rolling_search</th>\n",
        "      <th>order</th>\n",
        "      <th>ret</th>\n",
        "      <th>ret_search</th>\n",
        "    </tr>\n",
        "    <tr>\n",
        "      <th>Week</th>\n",
        "      <th></th>\n",
        "      <th></th>\n",
        "      <th></th>\n",
        "      <th></th>\n",
        "      <th></th>\n",
        "      <th></th>\n",
        "    </tr>\n",
        "  </thead>\n",
        "  <tbody>\n",
        "    <tr>\n",
        "      <th>2015-02-08</th>\n",
        "      <td> 16</td>\n",
        "      <td> 223.88</td>\n",
        "      <td> 15.333333</td>\n",
        "      <td>-1</td>\n",
        "      <td> 0.045515</td>\n",
        "      <td>-0.045515</td>\n",
        "    </tr>\n",
        "    <tr>\n",
        "      <th>2015-02-15</th>\n",
        "      <td> 16</td>\n",
        "      <td> 234.07</td>\n",
        "      <td> 15.666667</td>\n",
        "      <td>-1</td>\n",
        "      <td> 0.013842</td>\n",
        "      <td>-0.013842</td>\n",
        "    </tr>\n",
        "    <tr>\n",
        "      <th>2015-02-22</th>\n",
        "      <td> 14</td>\n",
        "      <td> 237.31</td>\n",
        "      <td> 15.666667</td>\n",
        "      <td> 1</td>\n",
        "      <td> 0.100628</td>\n",
        "      <td> 0.100628</td>\n",
        "    </tr>\n",
        "    <tr>\n",
        "      <th>2015-03-01</th>\n",
        "      <td> 15</td>\n",
        "      <td> 261.19</td>\n",
        "      <td> 15.333333</td>\n",
        "      <td> 1</td>\n",
        "      <td> 0.052146</td>\n",
        "      <td> 0.052146</td>\n",
        "    </tr>\n",
        "    <tr>\n",
        "      <th>2015-03-08</th>\n",
        "      <td>NaN</td>\n",
        "      <td> 274.81</td>\n",
        "      <td> 15.000000</td>\n",
        "      <td> 0</td>\n",
        "      <td>      NaN</td>\n",
        "      <td>      NaN</td>\n",
        "    </tr>\n",
        "  </tbody>\n",
        "</table>\n",
        "</div>"
       ],
       "metadata": {},
       "output_type": "pyout",
       "prompt_number": 182,
       "text": [
        "            search  close_price  rolling_search  order       ret  ret_search\n",
        "Week                                                                        \n",
        "2015-02-08      16       223.88       15.333333     -1  0.045515   -0.045515\n",
        "2015-02-15      16       234.07       15.666667     -1  0.013842   -0.013842\n",
        "2015-02-22      14       237.31       15.666667      1  0.100628    0.100628\n",
        "2015-03-01      15       261.19       15.333333      1  0.052146    0.052146\n",
        "2015-03-08     NaN       274.81       15.000000      0       NaN         NaN"
       ]
      }
     ],
     "prompt_number": 182
    },
    {
     "cell_type": "code",
     "collapsed": false,
     "input": [
      "(1 + trend_bpi.ret_search).cumprod().plot();\n",
      "plt.ylabel('Portfolio value')"
     ],
     "language": "python",
     "metadata": {},
     "outputs": [
      {
       "metadata": {},
       "output_type": "pyout",
       "prompt_number": 184,
       "text": [
        "<matplotlib.text.Text at 0x115cee890>"
       ]
      },
      {
       "metadata": {},
       "output_type": "display_data",
       "png": "[encoded data removed]",
       "text": [
        "<matplotlib.figure.Figure at 0x115cabb10>"
       ]
      }
     ],
     "prompt_number": 184
    }
   ],
   "metadata": {}
  }
 ]
}